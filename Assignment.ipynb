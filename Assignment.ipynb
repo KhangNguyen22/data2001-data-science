{
 "cells": [
  {
   "cell_type": "markdown",
   "metadata": {},
   "source": [
    "# Assignment"
   ]
  },
  {
   "cell_type": "markdown",
   "metadata": {},
   "source": [
    "## Connecting to Database"
   ]
  },
  {
   "cell_type": "code",
   "execution_count": null,
   "metadata": {},
   "outputs": [],
   "source": [
    "from __future__ import (absolute_import, division, print_function)\n",
    "from sqlalchemy import create_engine\n",
    "import psycopg2\n",
    "import psycopg2.extras\n",
    "import os\n",
    "import json\n",
    "import requests\n",
    "\n",
    "\n",
    "import matplotlib as mpl\n",
    "import matplotlib.pyplot as plt\n",
    "\n",
    "from shapely.geometry import Point\n",
    "from shapely import wkt\n",
    "import pandas as pd\n",
    "import geopandas as gpd\n",
    "from geopandas import GeoSeries, GeoDataFrame\n",
    "from pprint import pprint\n",
    "\n",
    "def pgconnect():\n",
    "    # please replace <your_unikey> and <your_SID> with your own details\n",
    "    YOUR_UNIKEY = ''\n",
    "    YOUR_PW     = ''\n",
    "    DB_LOGIN    = 'y20s1d2x01_'+ YOUR_UNIKEY\n",
    "\n",
    "    try:\n",
    "        db_conn_dict = {'host': 'soitpw11d59.shared.sydney.edu.au', 'port': 5432, 'database': DB_LOGIN, 'user':DB_LOGIN , 'password': YOUR_PW }\n",
    "        conn = psycopg2.connect(**db_conn_dict)\n",
    "        print('connected')\n",
    "    except Exception as e:\n",
    "        print(\"unable to connect to the database\")\n",
    "        print(e)\n",
    "        return None\n",
    "    return conn\n",
    "\n",
    "def pgquery( conn, sqlcmd, args=None, msg=False, returntype='tuple'):\n",
    "    \"\"\" utility function to execute some SQL query statement\n",
    "        it can take optional arguments (as a dictionary) to fill in for placeholders in the SQL\n",
    "        will return the complete query result as return value - or in case of error: None\n",
    "        error and transaction handling built-in (by using the 'with' clauses)\"\"\"\n",
    "    retval = None\n",
    "    with conn:\n",
    "        cursortype = None if returntype != 'dict' else psycopg2.extras.RealDictCursor\n",
    "        with conn.cursor(cursor_factory=cursortype) as cur:\n",
    "            try:\n",
    "                if args is None:\n",
    "                    cur.execute(sqlcmd)\n",
    "                else:\n",
    "                    cur.execute(sqlcmd, args)\n",
    "                if (cur.description != None ):\n",
    "                    retval = cur.fetchall() # we use fetchall() as we expect only _small_ query results\n",
    "                if msg != False:\n",
    "                    print(\"success: \" + msg)\n",
    "            except psycopg2.DatabaseError as e:\n",
    "                if e.pgcode != None:\n",
    "                    if msg: print(\"db read error: \"+msg)\n",
    "                    print(e)\n",
    "            except Exception as e:\n",
    "                print(e)\n",
    "    return retval"
   ]
  },
  {
   "cell_type": "code",
   "execution_count": null,
   "metadata": {},
   "outputs": [],
   "source": [
    "# Connecting to database\n",
    "conn = pgconnect()"
   ]
  },
  {
   "cell_type": "markdown",
   "metadata": {},
   "source": [
    "## Task 1: Data Integration and Database Generation"
   ]
  },
  {
   "cell_type": "markdown",
   "metadata": {},
   "source": [
    "### Creating Tables"
   ]
  },
  {
   "cell_type": "code",
   "execution_count": null,
   "metadata": {},
   "outputs": [],
   "source": [
    "statistical_areas_table = \"\"\"CREATE TABLE statistical_areas (\n",
    "                area_id INTEGER PRIMARY KEY,\n",
    "                area_name VARCHAR(50) , \n",
    "                parent_area_id INTEGER\n",
    "            );\"\"\"\n",
    "\n",
    "neighbourhoods_table = \"\"\"CREATE TABLE neighbourhoods (\n",
    "                area_id INTEGER NOT NULL,\n",
    "                area_name VARCHAR(50),\n",
    "                land_area NUMERIC,\n",
    "                population INTEGER,\n",
    "                number_of_dwellings INTEGER,\n",
    "                number_of_businesses INTEGER,\n",
    "                median_annual_household_income INTEGER,\n",
    "                avg_monthly_rent INTEGER,\n",
    "                PRIMARY KEY (area_id),\n",
    "                FOREIGN KEY (area_id) REFERENCES statistical_areas(area_id)\n",
    "            );\"\"\"\n",
    "\n",
    "census_stats_table = \"\"\"CREATE TABLE census_stats (\n",
    "                area_id INTEGER PRIMARY KEY, \n",
    "                median_annual_household_income INTEGER,\n",
    "                avg_monthly_rent INTEGER\n",
    "            );\"\"\"\n",
    "\n",
    "population_stats_2016_table = \"\"\"CREATE TABLE population_stats_2016 (\n",
    "                area_id INTEGER PRIMARY KEY,\n",
    "                area_name VARCHAR(50),\n",
    "                age_0_to_4 INTEGER,\n",
    "                age_5_to_9 INTEGER,\n",
    "                age_10_to_14 INTEGER,\n",
    "                age_15_to_19 INTEGER,\n",
    "                age_20_to_24 INTEGER,\n",
    "                age_25_to_29 INTEGER,\n",
    "                age_30_to_34 INTEGER,\n",
    "                age_35_to_39 INTEGER,\n",
    "                age_40_to_44 INTEGER,\n",
    "                age_45_to_49 INTEGER,\n",
    "                age_50_to_54 INTEGER,\n",
    "                age_55_to_59 INTEGER,\n",
    "                age_60_to_64 INTEGER,\n",
    "                age_65_to_69 INTEGER,\n",
    "                age_70_to_74 INTEGER,\n",
    "                age_75_to_79 INTEGER,\n",
    "                age_80_to_84 INTEGER,\n",
    "                age_85_and_over INTEGER,\n",
    "                total_persons INTEGER,\n",
    "                females INTEGER,\n",
    "                males INTEGER\n",
    "            );\"\"\"\n",
    "\n",
    "health_services_table = \"\"\"CREATE TABLE health_services (\n",
    "                id INTEGER PRIMARY KEY,\n",
    "                name VARCHAR(100),\n",
    "                category VARCHAR(50),\n",
    "                num_beds INTEGER,\n",
    "                address VARCHAR(100),\n",
    "                suburb VARCHAR(50),\n",
    "                state VARCHAR(4),\n",
    "                postcode CHAR(4),\n",
    "                longitude NUMERIC,\n",
    "                latitude NUMERIC,\n",
    "                comment VARCHAR(2300),\n",
    "                website VARCHAR(150)\n",
    "            );\"\"\"\n",
    "\n",
    "nsw_postcodes_table = \"\"\"CREATE TABLE nsw_postcodes (\n",
    "                id INTEGER PRIMARY KEY,\n",
    "                postcode INTEGER,\n",
    "                locality VARCHAR(50),\n",
    "                longitude NUMERIC,\n",
    "                latitude NUMERIC\n",
    "            );\"\"\"\n",
    "\n",
    "nsw_testsites_table = \"\"\"CREATE TABLE nsw_testsites (\n",
    "                site_id INTEGER PRIMARY KEY,\n",
    "                Centre_name VARCHAR(70) ,\n",
    "                Phone_number VARCHAR(70),\n",
    "                Opening_hours VARCHAR(80),\n",
    "                longitude NUMERIC,\n",
    "                latitude NUMERIC,\n",
    "                test_capacity INTEGER\n",
    "            );\"\"\"\n",
    "\n",
    "covid_tests_table = \"\"\"CREATE TABLE covid_tests (\n",
    "                test_id INTEGER PRIMARY KEY,\n",
    "                test_date DATE,\n",
    "                postcode CHAR(4),\n",
    "                lhd_2010_code CHAR(4),\n",
    "                lhd_2010_name VARCHAR(50),\n",
    "                lga_code19 INTEGER,\n",
    "                lga_name19 VARCHAR(50),\n",
    "                result VARCHAR(50)\n",
    "            );\"\"\"\n",
    "\n",
    "SA2_data_table = \"\"\"CREATE TABLE sa2_data (\n",
    "                id INTEGER PRIMARY KEY,\n",
    "                name VARCHAR(50),\n",
    "                geom GEOMETRY(MULTIPOLYGON,4326)\n",
    "            );\"\"\"\n",
    "\n",
    "# DO NOT EXECUTE THIS CODE - the tables have already been created in the database\n",
    "pgquery(conn, \"SET search_path to covid\")\n",
    "pgquery(conn, statistical_areas_table)\n",
    "pgquery(conn, neighbourhoods_table)\n",
    "pgquery(conn, census_stats_table)\n",
    "pgquery(conn, population_stats_2016_table)\n",
    "pgquery(conn, health_services_table)\n",
    "pgquery(conn, nsw_testsites_table)\n",
    "pgquery(conn, covid_tests_table)\n",
    "\n",
    "# We need a reference to the public schema in order to use PostGIS\n",
    "pgquery(conn, \"SET search_path to covid, public\")\n",
    "pgquery(conn, SA2_data_table)"
   ]
  },
  {
   "cell_type": "markdown",
   "metadata": {},
   "source": [
    "### Loading data and inserting them into tables"
   ]
  },
  {
   "cell_type": "code",
   "execution_count": null,
   "metadata": {},
   "outputs": [],
   "source": [
    "# DO NOT EXECUTE THIS CODE - the data has already been loaded into the database\n",
    "\n",
    "conn.execute(\"SET search_path to covid\")\n",
    "\n",
    "\n",
    "# Loading data into statistical_areas\n",
    "statistical_areas_data = pd.read_csv(\"datasets/StatisticalAreas.csv\")\n",
    "for index, row in statistical_areas_data.iterrows():\n",
    "    conn.execute(\"INSERT INTO statistical_areas VALUES (%s, %s, %s)\", (row[0], row[1], row[2]))\n",
    "\n",
    "\n",
    "# Loading data into neighbourhoods\n",
    "neighbourhoods_data = pd.read_csv(\"datasets/Neighbourhoods.csv\")\n",
    "for index, row in neighbourhoods_data.iterrows():\n",
    "    # sorry about this\n",
    "    if str(row[2]) == \"nan\":\n",
    "        row[2] = None\n",
    "    if str(row[3]) == \"nan\":\n",
    "        row[3] = None\n",
    "    if str(row[4]) == \"nan\":\n",
    "        row[4] = None\n",
    "    if str(row[5]) == \"nan\":\n",
    "        row[5] = None\n",
    "    if str(row[6]) == \"nan\":\n",
    "        row[6] = None\n",
    "    if str(row[7]) == \"nan\":\n",
    "        row[7] = None\n",
    "    conn.execute(\"INSERT INTO neighbourhoods VALUES (%s, %s, %s, %s, %s, %s, %s, %s)\", (row[0], row[1], row[2], row[3], row[4], row[5], row[6], row[7]))\n",
    "\n",
    "\n",
    "\n",
    "\n",
    "# Loading data into nsw_testsites\n",
    "covid19_nsw_testsites_simulated_capacity_data = pd.read_csv(\"datasets/covid19_nsw_testsites_simulated_capacity.csv\")\n",
    "for index, row in covid19_nsw_testsites_simulated_capacity_data.iterrows():\n",
    "    conn.execute(\"INSERT INTO nsw_testsites VALUES (%s, %s, %s, %s, %s, %s, %s)\", (row[0], row[1], row[2], row[3], row[4], row[5], row[6]))\n",
    "\n",
    "# Loading data into nsw_postcodes\n",
    "nsw_postcodes_data = pd.read_csv(\"datasets/NSW_Postcodes.csv\")\n",
    "for index, row in nsw_postcodes_data.iterrows():\n",
    "    conn.execute(\"INSERT INTO nsw_postcodes VALUES (%s, %s, %s, %s, %s)\", (row[0], row[1], row[2], row[3], row[4]))\n",
    "\n",
    "# Loading data into population_stats_2016\n",
    "population_stats_2016_data = pd.read_csv(\"datasets/PopulationStats2016.csv\")\n",
    "for index, row in population_stats_2016_data.iterrows():\n",
    "    # oh my god\n",
    "    row_tuple = (row[0], row[1], row[2], row[3], row[4], row[5], row[6], row[7], row[8], row[9], row[10], row[11], row[12], row[13], row[14], row[15], row[16], row[17], row[18], row[19], row[20], row[21], row[22])\n",
    "    conn.execute(\"INSERT INTO population_stats_2016 VALUES (%s, %s, %s, %s, %s, %s, %s, %s, %s, %s, %s, %s, %s, %s, %s, %s, %s, %s, %s, %s, %s, %s, %s)\", row_tuple)\n",
    "\n",
    "\n",
    "# Loading data into census_stats\n",
    "census_stats_data = pd.read_csv(\"datasets/CensusStats.csv\")\n",
    "for index, row in census_stats_data.iterrows():\n",
    "    # Numpy data types don't like being converted to None\n",
    "    if str(row[1]) == \"nan\" and str(row[2]) != \"nan\":\n",
    "        conn.execute(\"INSERT INTO census_stats VALUES (%s, %s, %s)\", (row[0], None, row[2]))\n",
    "        continue\n",
    "    if str(row[2]) == \"nan\" and str(row[1]) != \"nan\":\n",
    "        conn.execute(\"INSERT INTO census_stats VALUES (%s, %s, %s)\", (row[0], row[1], None))\n",
    "        continue\n",
    "    if str(row[2]) == \"nan\" and str(row[1]) == \"nan\":\n",
    "        conn.execute(\"INSERT INTO census_stats VALUES (%s, %s, %s)\", (row[0], None, None))\n",
    "        continue\n",
    "    conn.execute(\"INSERT INTO census_stats VALUES (%s, %s, %s)\", (row[0], row[1], row[2]))\n",
    "\n",
    "# Loading data into health_services\n",
    "health_services_data = pd.read_csv(\"datasets/HealthServices.csv\")\n",
    "for index, row in health_services_data.iterrows():\n",
    "    if str(row[3]) == \"nan\":\n",
    "        row[3] = None\n",
    "    conn.execute(\"INSERT INTO health_services VALUES (%s, %s, %s, %s, %s, %s, %s, %s, %s, %s, %s)\", (row[0], row[1], row[2], row[3], row[4], row[5], row[6], row[7], row[8], row[9], row[10]))\n",
    "\n",
    "# Loading data into covid_tests\n",
    "with open(\"datasets/tests_by_date_location_result.json\", \"r\") as f:\n",
    "    covid_test_data = json.load(f)\n",
    "for record in covid_test_data['records']:\n",
    "    conn.execute(\"INSERT INTO covid_tests VALUES (%s, %s, %s, %s, %s, %s, %s, %s)\", (record[0], record[1], record[2], record[3], record[4], record[5], record[6], record[7]))\n",
    "\n",
    "# Loading spatial data in sa2\n",
    "geom_wkt_data = []\n",
    "for index, row in SA2_data.iterrows():\n",
    "    try:\n",
    "        geom_wkt_data.append(row['geometry'].wkt) # converting geometry polygon data to a string format\n",
    "    except:\n",
    "        geom_wkt_data.append(None)\n",
    "SA2_data = SA2_data.assign(geom_wkt = geom_wkt_data) # adding string formatted geometry to dataframe\n",
    "conn.execute(\"SET search_path to covid, public\")\n",
    "for index, row in SA2_data.iterrows():\n",
    "    conn.execute(\"INSERT INTO sa2_data VALUES (%s, %s, ST_Multi(ST_GeomFromText(%s, 4326)))\", (row[0], row[2], row[13]))"
   ]
  },
  {
   "cell_type": "markdown",
   "metadata": {},
   "source": [
    "## Add in geometry columns for health_services, NSW_Postcodes & Neighbourhoods"
   ]
  },
  {
   "cell_type": "code",
   "execution_count": null,
   "metadata": {},
   "outputs": [],
   "source": [
    "pgquery(conn, \"SET search_path to covid, public\")\n",
    "\n",
    "# Adding geom column to neighbourhoods\n",
    "pgquery(conn, \"ALTER TABLE health_services ADD geom GEOMETRY(POINT, 4326)\")\n",
    "for i in range(3717):\n",
    "    query = \"\"\"UPDATE health_services SET geom = \n",
    "        (SELECT ST_SetSRID(ST_Point(CAST(longitude as float), CAST(latitude as float)), 4326) FROM health_services WHERE id = {})\n",
    "        WHERE id = {}\n",
    "        \"\"\".format(i, i)\n",
    "    pgquery(conn, query)\n",
    "    \n",
    "# Adding geom column to postcodes    \n",
    "pgquery(conn, \"ALTER TABLE nsw_postcodes ADD geom GEOMETRY(POINT, 4326)\")\n",
    "for i in range(22873):\n",
    "    query = \"\"\"UPDATE nsw_postcodes SET geom = \n",
    "        (SELECT ST_SetSRID(ST_Point(CAST(longitude as float), CAST(latitude as float)), 4326) FROM nsw_postcodes WHERE id = {})\n",
    "        WHERE id = {}\n",
    "        \"\"\".format(i, i)\n",
    "    pgquery(conn, query)\n",
    "\n",
    "# Adding geom column to neighbourhoods\n",
    "pgquery(conn, \"ALTER TABLE neighbourhoods ADD geom GEOMETRY(MULTIPOLYGON, 4326)\")\n",
    "res = pgquery(conn, \"SELECT area_id FROM neighbourhoods\")\n",
    "for index in res:\n",
    "    query = \"\"\"UPDATE neighbourhoods SET geom = \n",
    "         (SELECT geom FROM sa2_data WHERE id = {})\n",
    "         WHERE area_id = {}\n",
    "         \"\"\".format(index[0], index[0])\n",
    "    pgquery(conn, query)"
   ]
  },
  {
   "cell_type": "markdown",
   "metadata": {},
   "source": [
    "### UPDATE to LATEST JSON covid test cases !!!!"
   ]
  },
  {
   "cell_type": "code",
   "execution_count": null,
   "metadata": {},
   "outputs": [],
   "source": [
    "# # Get the JSON \n",
    "json_url=\"https://data.nsw.gov.au/data/datastore/dump/227f6b65-025c-482c-9f22-a25cf1b8594f?format=json\"\n",
    "response = requests.get(json_url)\n"
   ]
  },
  {
   "cell_type": "code",
   "execution_count": null,
   "metadata": {},
   "outputs": [],
   "source": [
    "covid_test_data = response.json()\n",
    "covid_test_data\n",
    "# Delete everything in the covid_test_data table\n",
    "pgquery(conn, \"DELETE FROM covid_tests\")\n",
    "\n",
    "# Insert into the database. Note: it will take 5 minutes.\n",
    "for record in covid_test_data['records']:\n",
    "    insert = \"INSERT INTO covid_tests VALUES ({}, '{}', '{}', '{}', '{}', {}, '{}', '{}')\".format(record[0], record[1], record[2], record[3], record[4], record[5], record[6], record[7]) \n",
    "    print(pgquery(conn, insert))\n",
    "# # print(insert)"
   ]
  },
  {
   "cell_type": "markdown",
   "metadata": {},
   "source": [
    "## Spatial Joins on neighbourhoods and health_services\n",
    "### Tips for searching:\n",
    "* Before any queries, please connect to database, UPDATE TO LATEST covid test cases and then run pgquery()\n",
    "\n",
    "\n",
    "* For querying using any postgis methods: \n",
    "    1. pgquery(conn, \"set search_path to covid,public;\") \n",
    "    2. Do your query (e.g. pgquery(conn, \"select ST_AsText(geom) from sa2_data limit 2;\")\n",
    "\n",
    "\n",
    "* Use ST_AsText() postgis method to check if geometry type of data in geom column\n",
    "\n",
    "\n",
    "* When using gpd.read_postgis, remember you MUST ALWAYS specify a geom column in query!\n"
   ]
  },
  {
   "cell_type": "code",
   "execution_count": null,
   "metadata": {},
   "outputs": [],
   "source": [
    "pgquery(conn, \"set search_path to covid,public;\")"
   ]
  },
  {
   "cell_type": "markdown",
   "metadata": {},
   "source": [
    "### Health services spatial index to increase query speed\n"
   ]
  },
  {
   "cell_type": "code",
   "execution_count": null,
   "metadata": {},
   "outputs": [],
   "source": [
    "# index_command = \"CREATE INDEX health_services_idx ON health_services USING GIST (geom)\"\n",
    "# result= pgquery(conn, index_command, returntype='dict')\n",
    "# pprint(result)"
   ]
  },
  {
   "cell_type": "markdown",
   "metadata": {},
   "source": [
    "## Find health service density per neighbourhood\n",
    "* We did a spatial ST_Within join between Neighbourhoods and Health Services, thereby finding the health service density per neighbourhood, where neighbourhood is the neighbourhood population/1000."
   ]
  },
  {
   "cell_type": "code",
   "execution_count": null,
   "metadata": {},
   "outputs": [],
   "source": [
    "query = \"\"\"SELECT n.area_name, n.land_area, n.population, count(h.name) AS number_health_services,\n",
    "\t\t\t count(h.name)/(n.population::float/1000) AS \"healthservice_density\", n.geom\n",
    "             FROM neighbourhoods n JOIN health_services h ON (ST_Within(h.geom, n.geom))\n",
    "             GROUP BY n.area_name, n.land_area, n.population, n.geom\n",
    "             ORDER BY n.area_name ASC;\n",
    "            \"\"\"\n",
    "\n",
    "healthservice_density = gpd.read_postgis(query, conn)\n",
    "healthservice_density"
   ]
  },
  {
   "cell_type": "code",
   "execution_count": null,
   "metadata": {},
   "outputs": [],
   "source": [
    "fig, ax = plt.subplots(1, 1, figsize=(10, 10))\n",
    "ax.set_title(\"Health Services Density\", fontsize=10.0)\n",
    "legend_kwds = {'label': \"Health Services Density\", 'orientation': \"horizontal\"}\n",
    "healthservice_density.plot(column=\"healthservice_density\", figsize=(10, 10), cmap=\"tab20\", ax=ax, legend=True, legend_kwds=legend_kwds)"
   ]
  },
  {
   "cell_type": "code",
   "execution_count": null,
   "metadata": {},
   "outputs": [],
   "source": [
    "hsd_col = healthservice_density[\"healthservice_density\"].to_numpy()\n",
    "plt.hist(hsd_col, color=\"r\", edgecolor=\"grey\")\n",
    "plt.xlabel(\"Health Service Density\")\n",
    "plt.ylabel(\"Frequency\")\n",
    "plt.title(\"Health Service Density per Neighbourhood\")\n",
    "plt.show()"
   ]
  },
  {
   "cell_type": "markdown",
   "metadata": {},
   "source": [
    "## Find Population density per neighbourhood land area"
   ]
  },
  {
   "cell_type": "code",
   "execution_count": null,
   "metadata": {},
   "outputs": [],
   "source": [
    "query = \"\"\"select area_name, population/land_area AS population_density, geom from neighbourhoods \n",
    "            ORDER BY population_density DESC;\n",
    "            \"\"\"\n",
    "\n",
    "population_density = gpd.read_postgis(query,conn)\n",
    "population_density"
   ]
  },
  {
   "cell_type": "code",
   "execution_count": null,
   "metadata": {},
   "outputs": [],
   "source": [
    "fig, ax = plt.subplots(1, 1, figsize=(10, 10))\n",
    "ax.set_title(\"Population Density\", fontsize=10.0)\n",
    "legend_kwds = {'label': \"Population Density\", 'orientation': \"horizontal\"}\n",
    "population_density.plot(column=\"population_density\", figsize=(10, 10), cmap=\"tab20\", ax=ax, legend=True, legend_kwds=legend_kwds)"
   ]
  },
  {
   "cell_type": "code",
   "execution_count": null,
   "metadata": {},
   "outputs": [],
   "source": [
    "popd_col = population_density[\"population_density\"].to_numpy()\n",
    "plt.hist(popd_col, color=\"r\", edgecolor=\"grey\")\n",
    "plt.xlabel(\"Population Density\")\n",
    "plt.ylabel(\"Frequency\")\n",
    "plt.title(\"Population Density per Neighbourhood\")\n",
    "plt.show()"
   ]
  },
  {
   "cell_type": "markdown",
   "metadata": {},
   "source": [
    "## Find Population Age Percentage"
   ]
  },
  {
   "cell_type": "code",
   "execution_count": null,
   "metadata": {},
   "outputs": [],
   "source": [
    "query = \"\"\"select area_name,CASE\n",
    "WHEN total_persons = NULL OR total_persons = 0 Then NULL\n",
    "ELSE 100*(age_70_to_74 + age_75_to_79 + age_80_to_84 + age_85_and_over)/total_persons::float \n",
    "END AS \"Percentage_of_population_age_70_over\", geom\n",
    "from population_stats_2016 p LEFT JOIN sa2_data s ON (p.area_id = s.id);\"\"\"\n",
    "\n",
    "population_age = gpd.read_postgis(query,conn)\n",
    "population_age"
   ]
  },
  {
   "cell_type": "code",
   "execution_count": null,
   "metadata": {},
   "outputs": [],
   "source": [
    "fig, ax = plt.subplots(1, 1, figsize=(10, 10))\n",
    "ax.set_title(\"Percentage of Population over 70\", fontsize=10.0)\n",
    "legend_kwds = {'label': \"Percentage of Population over 70\", 'orientation': \"horizontal\"}\n",
    "population_age.plot(column=\"Percentage_of_population_age_70_over\", figsize=(10, 10), cmap=\"tab20\", ax=ax, legend=True, legend_kwds=legend_kwds)"
   ]
  },
  {
   "cell_type": "code",
   "execution_count": null,
   "metadata": {
    "scrolled": true
   },
   "outputs": [],
   "source": [
    "perc_pop_age = population_age[\"Percentage_of_population_age_70_over\"].to_numpy()\n",
    "plt.hist(perc_pop_age, color=\"r\", edgecolor=\"grey\")\n",
    "plt.xlabel(\"Percentage of population aged 70 or over\")\n",
    "plt.ylabel(\"Frequency\")\n",
    "plt.title(\"Percentage of population aged 70 or over per neighbourhood\")\n",
    "plt.show()"
   ]
  },
  {
   "cell_type": "markdown",
   "metadata": {},
   "source": [
    "## Find hospital bed density"
   ]
  },
  {
   "cell_type": "code",
   "execution_count": null,
   "metadata": {},
   "outputs": [],
   "source": [
    "query = \"\"\"SELECT n.area_name, SUM(h.num_beds)/(n.population/1000) AS \"num_beds_density\", n.geom\n",
    "             FROM neighbourhoods n JOIN health_services h ON (ST_Within(h.geom, n.geom)) \n",
    "\t\t\t GROUP BY n.area_name,n.population,n.geom\n",
    "\t\t\t ORDER BY num_beds_density DESC NULLS LAST;\"\"\"\n",
    "\n",
    "hospital_bed_density = gpd.read_postgis(query,conn)\n",
    "hospital_bed_density\n"
   ]
  },
  {
   "cell_type": "code",
   "execution_count": null,
   "metadata": {},
   "outputs": [],
   "source": [
    "fig, ax = plt.subplots(1, 1, figsize=(10, 10))\n",
    "ax.set_title(\"Hospital Bed Density\", fontsize=10.0)\n",
    "legend_kwds = {'label': \"Hospital Bed Density\", 'orientation': \"horizontal\"}\n",
    "hospital_bed_density.plot(column=\"num_beds_density\", figsize=(10, 10), cmap=\"tab20\", ax=ax, legend=True, legend_kwds=legend_kwds)"
   ]
  },
  {
   "cell_type": "code",
   "execution_count": null,
   "metadata": {},
   "outputs": [],
   "source": [
    "num_beds_density = hospital_bed_density[\"num_beds_density\"].to_numpy()\n",
    "plt.hist(num_beds_density, color=\"r\", edgecolor=\"grey\")\n",
    "plt.xlabel(\"Number of beds density\")\n",
    "plt.ylabel(\"Frequency\")\n",
    "plt.title(\"Number of beds density per neighbourhood\")\n",
    "plt.show()"
   ]
  },
  {
   "cell_type": "markdown",
   "metadata": {},
   "source": [
    "### Indexing on sa2_data and nsw_postcodes\n",
    "* Upon attempting a join between sa2_data and nsw_postcodes, we realised that the query was extremely slow, hence we created 2 indexes: one on sa2_data's geom column and the other on nsw_postcodes's geom column. This dropped the waiting time from 1 minute and 3 seconds to a mere 2 seconds."
   ]
  },
  {
   "cell_type": "code",
   "execution_count": null,
   "metadata": {},
   "outputs": [],
   "source": [
    "# index_command = \"CREATE INDEX sa2_data_idx ON sa2_data USING GIST (geom)\"\n",
    "# result= pgquery(conn, index_command, returntype='dict')\n",
    "# pprint(result)\n",
    "\n",
    "# index_command = \"CREATE INDEX nsw_postcodes_idx ON nsw_postcodes USING GIST (geom)\"\n",
    "# result= pgquery(conn, index_command, returntype='dict')\n",
    "# pprint(result)\n"
   ]
  },
  {
   "cell_type": "markdown",
   "metadata": {},
   "source": [
    "## Find Covid tests per neighbourhood"
   ]
  },
  {
   "cell_type": "code",
   "execution_count": null,
   "metadata": {},
   "outputs": [],
   "source": [
    "query = \"\"\"select neigh.area_name, count(ct.result) AS total_number_of_tests, neigh.geom FROM covid_tests ct \n",
    "JOIN nsw_postcodes np ON (ct.postcode = np.postcode) \n",
    "JOIN neighbourhoods neigh ON (ST_WITHIN(np.geom,neigh.geom))\n",
    "GROUP BY neigh.area_name,neigh.geom \n",
    "ORDER BY total_number_of_tests DESC;\"\"\"\n",
    "\n",
    "covid_tests = gpd.read_postgis(query,conn)\n",
    "covid_tests"
   ]
  },
  {
   "cell_type": "markdown",
   "metadata": {},
   "source": [
    "# Creating joint dataframe of the values"
   ]
  },
  {
   "cell_type": "code",
   "execution_count": null,
   "metadata": {},
   "outputs": [],
   "source": [
    "new_df_1 = pd.DataFrame(population_density, columns = ['area_name', 'population_density'])\n",
    "new_df_2 = pd.DataFrame(population_age, columns = ['area_name', 'Percentage_of_population_age_70_over'])\n",
    "new_df_3 = pd.DataFrame(healthservice_density, columns = ['area_name',  'healthservice_density'])\n",
    "new_df_4 = pd.DataFrame(hospital_bed_density, columns = ['area_name', 'num_beds_density'])\n",
    "new_df_5 = pd.DataFrame(covid_tests, columns = ['area_name',  'total_number_of_tests','geom'])\n",
    "#df_final = pd.concat([new_df_1, new_df_2, new_df_3, new_df_4])\n",
    "\n",
    "df_final = pd.merge(new_df_1, new_df_2, on='area_name')\n",
    "df_final = pd.merge(df_final, new_df_3, on='area_name')\n",
    "df_final = pd.merge(df_final, new_df_4, on='area_name')\n",
    "df_final = pd.merge(df_final, new_df_5, on='area_name')\n",
    "\n",
    "\n",
    "# Calculate averages and standard deviations\n",
    "avg_series_across_columns = df_final.mean(axis=0)\n",
    "std_series_across_columns = df_final.std(axis=0,ddof=0)\n",
    "\n",
    "def z_score(cur_value, column):\n",
    "    return (cur_value - avg_series_across_columns[column])/std_series_across_columns[column]\n",
    "\n",
    "new_column = []\n",
    "\n",
    "\n",
    "for index, cur_row in df_final.iterrows():\n",
    "    total_z_scores = (z_score(cur_row['population_density'], 'population_density') + z_score(\n",
    "        cur_row['Percentage_of_population_age_70_over'], 'Percentage_of_population_age_70_over')\n",
    "        + z_score(cur_row['healthservice_density'], 'healthservice_density')\n",
    "        + z_score(cur_row['num_beds_density'], 'num_beds_density')\n",
    "        + z_score(cur_row['total_number_of_tests'], 'total_number_of_tests'))\n",
    "#     new_column.append(cur_row['population_density'])\n",
    "    print(total_z_scores)\n",
    "\n",
    "# df_final['Vulnerability'] = new_column\n",
    "# df_final\n",
    "\n",
    "#final_data_table = \"\"\"CREATE TABLE final_data (\n",
    " #               area_name VARCHAR(50),\n",
    " #               num_beds_density INTEGER,\n",
    " #               population_age INTEGER,\n",
    "  #              population_density INTEGER,\n",
    "  #              healthservice_density INTEGER\n",
    "  #              \n",
    "  #          );\"\"\"\n",
    "\n",
    "# pgquery(conn, \"SET search_path to covid\")\n",
    "# pgquery(conn, final_data_table)\n",
    "\n",
    "# # Loading data into final_data_table\n",
    "\n",
    "# for index, row in df_final.iterrows():\n",
    "#     if str(row[1]) == \"nan\":\n",
    "#         row[1] = None\n",
    "#     if str(row[2]) == \"nan\":\n",
    "#         row[2] = None\n",
    "#     if str(row[3]) == \"nan\":\n",
    "#         row[3] = None\n",
    "#     if str(row[4]) == \"nan\":\n",
    "#         row[4] = None\n",
    "#     conn.execute(\"INSERT INTO final_data VALUES (%s, %s, %s, %s, %s)\", (row[0], row[1], row[2], row[3], row[4]))"
   ]
  },
  {
   "cell_type": "markdown",
   "metadata": {},
   "source": [
    "## Closing Connection"
   ]
  },
  {
   "cell_type": "code",
   "execution_count": null,
   "metadata": {},
   "outputs": [],
   "source": [
    "conn.close()"
   ]
  },
  {
   "cell_type": "code",
   "execution_count": null,
   "metadata": {},
   "outputs": [],
   "source": []
  }
 ],
 "metadata": {
  "kernelspec": {
   "display_name": "Python 3",
   "language": "python",
   "name": "python3"
  },
  "language_info": {
   "codemirror_mode": {
    "name": "ipython",
    "version": 3
   },
   "file_extension": ".py",
   "mimetype": "text/x-python",
   "name": "python",
   "nbconvert_exporter": "python",
   "pygments_lexer": "ipython3",
   "version": "3.7.4"
  }
 },
 "nbformat": 4,
 "nbformat_minor": 1
}
