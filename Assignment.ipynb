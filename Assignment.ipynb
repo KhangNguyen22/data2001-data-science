{
 "cells": [
  {
   "cell_type": "markdown",
   "metadata": {},
   "source": [
    "# Assignment"
   ]
  },
  {
   "cell_type": "markdown",
   "metadata": {},
   "source": [
    "## Connecting to Database"
   ]
  },
  {
   "cell_type": "code",
   "execution_count": null,
   "metadata": {},
   "outputs": [],
   "source": [
    "from __future__ import (absolute_import, division, print_function)\n",
    "from sqlalchemy import create_engine\n",
    "from shapely.geometry import Point\n",
    "from shapely import wkt\n",
    "from geopandas import GeoSeries, GeoDataFrame\n",
    "from pprint import pprint\n",
    "from numpy import cov\n",
    "import psycopg2\n",
    "import psycopg2.extras\n",
    "import os\n",
    "import json\n",
    "import requests\n",
    "import math\n",
    "import matplotlib as mpl\n",
    "import matplotlib.pyplot as plt\n",
    "import pandas as pd\n",
    "import geopandas as gpd\n",
    "\n",
    "def pgconnect():\n",
    "    YOUR_UNIKEY = 'mngu3698'\n",
    "    YOUR_PW     = '490503902'\n",
    "    DB_LOGIN    = 'y20s1d2x01_'+ YOUR_UNIKEY\n",
    "\n",
    "    try:\n",
    "        db_conn_dict = {'host': 'soitpw11d59.shared.sydney.edu.au', 'port': 5432, 'database': DB_LOGIN, 'user':DB_LOGIN , 'password': YOUR_PW }\n",
    "        conn = psycopg2.connect(**db_conn_dict)\n",
    "        print('connected')\n",
    "    except Exception as e:\n",
    "        print(\"unable to connect to the database\")\n",
    "        print(e)\n",
    "        return None\n",
    "    return conn\n",
    "\n",
    "def pgquery( conn, sqlcmd, args=None, msg=False, returntype='tuple'):\n",
    "    \"\"\" utility function to execute some SQL query statement\n",
    "        it can take optional arguments (as a dictionary) to fill in for placeholders in the SQL\n",
    "        will return the complete query result as return value - or in case of error: None\n",
    "        error and transaction handling built-in (by using the 'with' clauses)\"\"\"\n",
    "    retval = None\n",
    "    with conn:\n",
    "        cursortype = None if returntype != 'dict' else psycopg2.extras.RealDictCursor\n",
    "        with conn.cursor(cursor_factory=cursortype) as cur:\n",
    "            try:\n",
    "                if args is None:\n",
    "                    cur.execute(sqlcmd)\n",
    "                else:\n",
    "                    cur.execute(sqlcmd, args)\n",
    "                if (cur.description != None ):\n",
    "                    retval = cur.fetchall() # we use fetchall() as we expect only _small_ query results\n",
    "                if msg != False:\n",
    "                    print(\"success: \" + msg)\n",
    "            except psycopg2.DatabaseError as e:\n",
    "                if e.pgcode != None:\n",
    "                    if msg: print(\"db read error: \"+msg)\n",
    "                    print(e)\n",
    "            except Exception as e:\n",
    "                print(e)\n",
    "    return retval"
   ]
  },
  {
   "cell_type": "code",
   "execution_count": null,
   "metadata": {},
   "outputs": [],
   "source": [
    "# Connecting to database\n",
    "conn = pgconnect()"
   ]
  },
  {
   "cell_type": "markdown",
   "metadata": {},
   "source": [
    "## Task 1: Data Integration and Database Generation"
   ]
  },
  {
   "cell_type": "markdown",
   "metadata": {},
   "source": [
    "### Creating Tables"
   ]
  },
  {
   "cell_type": "code",
   "execution_count": null,
   "metadata": {},
   "outputs": [],
   "source": [
    "statistical_areas_table = \"\"\"CREATE TABLE statistical_areas (\n",
    "                area_id INTEGER PRIMARY KEY,\n",
    "                area_name VARCHAR(50) , \n",
    "                parent_area_id INTEGER\n",
    "            );\"\"\"\n",
    "\n",
    "neighbourhoods_table = \"\"\"CREATE TABLE neighbourhoods (\n",
    "                area_id INTEGER NOT NULL,\n",
    "                area_name VARCHAR(50),\n",
    "                land_area NUMERIC,\n",
    "                population INTEGER,\n",
    "                number_of_dwellings INTEGER,\n",
    "                number_of_businesses INTEGER,\n",
    "                median_annual_household_income INTEGER,\n",
    "                avg_monthly_rent INTEGER,\n",
    "                PRIMARY KEY (area_id),\n",
    "                FOREIGN KEY (area_id) REFERENCES statistical_areas(area_id)\n",
    "            );\"\"\"\n",
    "\n",
    "census_stats_table = \"\"\"CREATE TABLE census_stats (\n",
    "                area_id INTEGER PRIMARY KEY, \n",
    "                median_annual_household_income INTEGER,\n",
    "                avg_monthly_rent INTEGER\n",
    "            );\"\"\"\n",
    "\n",
    "population_stats_2016_table = \"\"\"CREATE TABLE population_stats_2016 (\n",
    "                area_id INTEGER PRIMARY KEY,\n",
    "                area_name VARCHAR(50),\n",
    "                age_0_to_4 INTEGER,\n",
    "                age_5_to_9 INTEGER,\n",
    "                age_10_to_14 INTEGER,\n",
    "                age_15_to_19 INTEGER,\n",
    "                age_20_to_24 INTEGER,\n",
    "                age_25_to_29 INTEGER,\n",
    "                age_30_to_34 INTEGER,\n",
    "                age_35_to_39 INTEGER,\n",
    "                age_40_to_44 INTEGER,\n",
    "                age_45_to_49 INTEGER,\n",
    "                age_50_to_54 INTEGER,\n",
    "                age_55_to_59 INTEGER,\n",
    "                age_60_to_64 INTEGER,\n",
    "                age_65_to_69 INTEGER,\n",
    "                age_70_to_74 INTEGER,\n",
    "                age_75_to_79 INTEGER,\n",
    "                age_80_to_84 INTEGER,\n",
    "                age_85_and_over INTEGER,\n",
    "                total_persons INTEGER,\n",
    "                females INTEGER,\n",
    "                males INTEGER\n",
    "            );\"\"\"\n",
    "\n",
    "health_services_table = \"\"\"CREATE TABLE health_services (\n",
    "                id INTEGER PRIMARY KEY,\n",
    "                name VARCHAR(100),\n",
    "                category VARCHAR(50),\n",
    "                num_beds INTEGER,\n",
    "                address VARCHAR(100),\n",
    "                suburb VARCHAR(50),\n",
    "                state VARCHAR(4),\n",
    "                postcode CHAR(4),\n",
    "                longitude NUMERIC,\n",
    "                latitude NUMERIC,\n",
    "                comment VARCHAR(2300),\n",
    "                website VARCHAR(150)\n",
    "            );\"\"\"\n",
    "\n",
    "nsw_postcodes_table = \"\"\"CREATE TABLE nsw_postcodes (\n",
    "                id INTEGER PRIMARY KEY,\n",
    "                postcode INTEGER,\n",
    "                locality VARCHAR(50),\n",
    "                longitude NUMERIC,\n",
    "                latitude NUMERIC\n",
    "            );\"\"\"\n",
    "\n",
    "nsw_testsites_table = \"\"\"CREATE TABLE nsw_testsites (\n",
    "                site_id INTEGER PRIMARY KEY,\n",
    "                Centre_name VARCHAR(70) ,\n",
    "                Phone_number VARCHAR(70),\n",
    "                Opening_hours VARCHAR(80),\n",
    "                longitude NUMERIC,\n",
    "                latitude NUMERIC,\n",
    "                test_capacity INTEGER\n",
    "            );\"\"\"\n",
    "\n",
    "covid_tests_table = \"\"\"CREATE TABLE covid_tests (\n",
    "                test_id INTEGER PRIMARY KEY,\n",
    "                test_date DATE,\n",
    "                postcode CHAR(4),\n",
    "                lhd_2010_code CHAR(4),\n",
    "                lhd_2010_name VARCHAR(50),\n",
    "                lga_code19 INTEGER,\n",
    "                lga_name19 VARCHAR(50),\n",
    "                result VARCHAR(50)\n",
    "            );\"\"\"\n",
    "\n",
    "SA2_data_table = \"\"\"CREATE TABLE sa2_data (\n",
    "                id INTEGER PRIMARY KEY,\n",
    "                name VARCHAR(50),\n",
    "                geom GEOMETRY(MULTIPOLYGON,4326)\n",
    "            );\"\"\"\n",
    "\n",
    "schools = \"\"\" CREATE TABLE schools (\n",
    "                school_id SERIAL PRIMARY KEY,\n",
    "                school_name VARCHAR(100) NOT NULL,\n",
    "                postcode CHAR(4) NOT NULL,\n",
    "                longitude NUMERIC,\n",
    "                latitude NUMERIC\n",
    "                                );\"\"\"\n",
    "\n",
    "# DO NOT EXECUTE THIS CODE - the tables have already been created in the database\n",
    "pgquery(conn, \"SET search_path to covid\")\n",
    "pgquery(conn, statistical_areas_table)\n",
    "pgquery(conn, neighbourhoods_table)\n",
    "pgquery(conn, census_stats_table)\n",
    "pgquery(conn, population_stats_2016_table)\n",
    "pgquery(conn, health_services_table)\n",
    "pgquery(conn, nsw_testsites_table)\n",
    "pgquery(conn, covid_tests_table)\n",
    "pgquery(conn, schools)\n",
    "\n",
    "# We need a reference to the public schema in order to use PostGIS\n",
    "pgquery(conn, \"SET search_path to covid, public\")\n",
    "pgquery(conn, SA2_data_table)"
   ]
  },
  {
   "cell_type": "markdown",
   "metadata": {},
   "source": [
    "### Loading data and inserting them into tables"
   ]
  },
  {
   "cell_type": "code",
   "execution_count": null,
   "metadata": {},
   "outputs": [],
   "source": [
    "# DO NOT EXECUTE THIS CODE - the data has already been loaded into the database\n",
    "\n",
    "conn.execute(\"SET search_path to covid\")\n",
    "\n",
    "# Loading data into statistical_areas\n",
    "statistical_areas_data = pd.read_csv(\"datasets/StatisticalAreas.csv\")\n",
    "for index, row in statistical_areas_data.iterrows():\n",
    "    pgquery(conn, \"INSERT INTO statistical_areas VALUES (%s, %s, %s)\", (row[0], row[1], row[2]))\n",
    "\n",
    "# Loading data into neighbourhoods\n",
    "neighbourhoods_data = pd.read_csv(\"datasets/Neighbourhoods.csv\")\n",
    "for index, row in neighbourhoods_data.iterrows():\n",
    "    # sorry about this\n",
    "    if str(row[2]) == \"nan\":\n",
    "        row[2] = None\n",
    "    if str(row[3]) == \"nan\":\n",
    "        row[3] = None\n",
    "    if str(row[4]) == \"nan\":\n",
    "        row[4] = None\n",
    "    if str(row[5]) == \"nan\":\n",
    "        row[5] = None\n",
    "    if str(row[6]) == \"nan\":\n",
    "        row[6] = None\n",
    "    if str(row[7]) == \"nan\":\n",
    "        row[7] = None\n",
    "    pgquery(conn, \"INSERT INTO neighbourhoods VALUES (%s, %s, %s, %s, %s, %s, %s, %s)\", (row[0], row[1], row[2], row[3], row[4], row[5], row[6], row[7]))\n",
    "\n",
    "# Loading data into nsw_testsites\n",
    "covid19_nsw_testsites_simulated_capacity_data = pd.read_csv(\"datasets/covid19_nsw_testsites_simulated_capacity.csv\")\n",
    "for index, row in covid19_nsw_testsites_simulated_capacity_data.iterrows():\n",
    "    pgquery(conn, \"INSERT INTO nsw_testsites VALUES (%s, %s, %s, %s, %s, %s, %s)\", (row[0], row[1], row[2], row[3], row[4], row[5], row[6]))\n",
    "\n",
    "# Loading data into nsw_postcodes\n",
    "nsw_postcodes_data = pd.read_csv(\"datasets/NSW_Postcodes.csv\")\n",
    "for index, row in nsw_postcodes_data.iterrows():\n",
    "    pgquery(conn, \"INSERT INTO nsw_postcodes VALUES (%s, %s, %s, %s, %s)\", (row[0], row[1], row[2], row[3], row[4]))\n",
    "\n",
    "# Loading data into population_stats_2016\n",
    "population_stats_2016_data = pd.read_csv(\"datasets/PopulationStats2016.csv\")\n",
    "for index, row in population_stats_2016_data.iterrows():\n",
    "    # oh my god\n",
    "    row_tuple = (row[0], row[1], row[2], row[3], row[4], row[5], row[6], row[7], row[8], row[9], row[10], row[11], row[12], row[13], row[14], row[15], row[16], row[17], row[18], row[19], row[20], row[21], row[22])\n",
    "    pgquery(conn, \"INSERT INTO population_stats_2016 VALUES (%s, %s, %s, %s, %s, %s, %s, %s, %s, %s, %s, %s, %s, %s, %s, %s, %s, %s, %s, %s, %s, %s, %s)\", row_tuple)\n",
    "\n",
    "# Loading data into census_stats\n",
    "census_stats_data = pd.read_csv(\"datasets/CensusStats.csv\")\n",
    "for index, row in census_stats_data.iterrows():\n",
    "    # Numpy data types don't like being converted to None\n",
    "    if str(row[1]) == \"nan\" and str(row[2]) != \"nan\":\n",
    "        conn.execute(\"INSERT INTO census_stats VALUES (%s, %s, %s)\", (row[0], None, row[2]))\n",
    "        continue\n",
    "    if str(row[2]) == \"nan\" and str(row[1]) != \"nan\":\n",
    "        conn.execute(\"INSERT INTO census_stats VALUES (%s, %s, %s)\", (row[0], row[1], None))\n",
    "        continue\n",
    "    if str(row[2]) == \"nan\" and str(row[1]) == \"nan\":\n",
    "        conn.execute(\"INSERT INTO census_stats VALUES (%s, %s, %s)\", (row[0], None, None))\n",
    "        continue\n",
    "    pgquery(conn, \"INSERT INTO census_stats VALUES (%s, %s, %s)\", (row[0], row[1], row[2]))\n",
    "\n",
    "# Loading data into health_services\n",
    "health_services_data = pd.read_csv(\"datasets/HealthServices.csv\")\n",
    "for index, row in health_services_data.iterrows():\n",
    "    if str(row[3]) == \"nan\":\n",
    "        row[3] = None\n",
    "    pgquery(conn, \"INSERT INTO health_services VALUES (%s, %s, %s, %s, %s, %s, %s, %s, %s, %s, %s)\", (row[0], row[1], row[2], row[3], row[4], row[5], row[6], row[7], row[8], row[9], row[10]))\n",
    "\n",
    "# Loading data into covid_tests\n",
    "with open(\"datasets/tests_by_date_location_result.json\", \"r\") as f:\n",
    "    covid_test_data = json.load(f)\n",
    "for record in covid_test_data['records']:\n",
    "    pgquery(conn, \"INSERT INTO covid_tests VALUES (%s, %s, %s, %s, %s, %s, %s, %s)\", (record[0], record[1], record[2], record[3], record[4], record[5], record[6], record[7]))\n",
    "\n",
    "# # Loading spatial data in sa2\n",
    "geom_wkt_data = []\n",
    "for index, row in SA2_data.iterrows():\n",
    "    try:\n",
    "        geom_wkt_data.append(row['geometry'].wkt) # converting geometry polygon data to a string format\n",
    "    except:\n",
    "        geom_wkt_data.append(None)\n",
    "SA2_data = SA2_data.assign(geom_wkt = geom_wkt_data) # adding string formatted geometry to dataframe\n",
    "pgquery(conn, \"SET search_path to covid, public\")\n",
    "for index, row in SA2_data.iterrows():\n",
    "    pgquery(conn, \"INSERT INTO sa2_data VALUES (%s, %s, ST_Multi(ST_GeomFromText(%s, 4326)))\", (row[0], row[2], row[13]))\n",
    "\n",
    "# Loading data into schools\n",
    "with open(\"datasets/schools.json\", \"r\") as f:\n",
    "    school_file = json.load(f)\n",
    "for record in school_file:\n",
    "    if \"'\" in record['school_name']:\n",
    "        pgquery(conn, \"INSERT INTO schools (school_name,postcode,longitude,latitude) VALUES ('{}', {}, {}, {})\".format(record['school_name'].replace(\"'\", \"''\"), record['postcode'], record['longitude'], record['latitude']))\n",
    "    else:\n",
    "        pgquery(conn, \"INSERT INTO schools (school_name,postcode,longitude,latitude) VALUES ('{}', {}, {}, {})\".format(record['school_name'], record['postcode'], record['longitude'], record['latitude']))\n"
   ]
  },
  {
   "cell_type": "markdown",
   "metadata": {},
   "source": [
    "### Add in geometry columns for health_services, NSW_Postcodes, Neighbourhoods & Schools"
   ]
  },
  {
   "cell_type": "code",
   "execution_count": null,
   "metadata": {},
   "outputs": [],
   "source": [
    "pgquery(conn, \"SET search_path to covid, public\")\n",
    "\n",
    "# Adding geom column to health services\n",
    "pgquery(conn, \"ALTER TABLE health_services ADD geom GEOMETRY(POINT, 4326)\")\n",
    "for i in range(3717):\n",
    "    query = \"\"\"UPDATE health_services SET geom = \n",
    "        (SELECT ST_SetSRID(ST_Point(CAST(longitude as float), CAST(latitude as float)), 4326) FROM health_services WHERE id = {})\n",
    "        WHERE id = {}\n",
    "        \"\"\".format(i, i)\n",
    "    pgquery(conn, query)\n",
    "    \n",
    "# Adding geom column to postcodes    \n",
    "pgquery(conn, \"ALTER TABLE nsw_postcodes ADD geom GEOMETRY(POINT, 4326)\")\n",
    "for i in range(22873):\n",
    "    query = \"\"\"UPDATE nsw_postcodes SET geom = \n",
    "        (SELECT ST_SetSRID(ST_Point(CAST(longitude as float), CAST(latitude as float)), 4326) FROM nsw_postcodes WHERE id = {})\n",
    "        WHERE id = {}\n",
    "        \"\"\".format(i, i)\n",
    "    pgquery(conn, query)\n",
    "\n",
    "# Adding geom column to neighbourhoods\n",
    "pgquery(conn, \"ALTER TABLE neighbourhoods ADD geom GEOMETRY(MULTIPOLYGON, 4326)\")\n",
    "res = pgquery(conn, \"SELECT area_id FROM neighbourhoods\")\n",
    "for index in res:\n",
    "    query = \"\"\"UPDATE neighbourhoods SET geom = \n",
    "         (SELECT geom FROM sa2_data WHERE id = {})\n",
    "         WHERE area_id = {}\n",
    "         \"\"\".format(index[0], index[0])\n",
    "    pgquery(conn, query)\n",
    "    \n",
    "# Adding geom column to schools using point type\n",
    "pgquery(conn, \"ALTER TABLE schools ADD geom GEOMETRY(POINT, 4326)\")\n",
    "for i in range(2217):\n",
    "    query = \"\"\"UPDATE schools SET geom = \n",
    "        (SELECT ST_SetSRID(ST_Point(CAST(longitude as float), CAST(latitude as float)), 4326) FROM schools WHERE school_id  = {})\n",
    "        WHERE school_id = {}\n",
    "        \"\"\".format(i, i)\n",
    "    pgquery(conn, query)"
   ]
  },
  {
   "cell_type": "markdown",
   "metadata": {},
   "source": [
    "### Health services spatial index to increase query speed"
   ]
  },
  {
   "cell_type": "code",
   "execution_count": null,
   "metadata": {},
   "outputs": [],
   "source": [
    "index_command = \"CREATE INDEX health_services_idx ON health_services USING GIST (geom)\"\n",
    "pgquery(conn, index_command, returntype='dict')"
   ]
  },
  {
   "cell_type": "markdown",
   "metadata": {},
   "source": [
    "### Indexing on sa2_data and nsw_postcodes\n",
    "\n",
    "Upon attempting a join between sa2_data and nsw_postcodes, we realised that the query was extremely slow, hence we created 2 indexes: one on sa2_data's geom column and the other on nsw_postcodes's geom column. This dropped the waiting time from 1 minute and 3 seconds to a mere 2 seconds."
   ]
  },
  {
   "cell_type": "code",
   "execution_count": null,
   "metadata": {},
   "outputs": [],
   "source": [
    "index_command = \"CREATE INDEX sa2_data_idx ON sa2_data USING GIST (geom)\"\n",
    "pgquery(conn, index_command, returntype='dict')\n",
    "\n",
    "index_command = \"CREATE INDEX nsw_postcodes_idx ON nsw_postcodes USING GIST (geom)\"\n",
    "pgquery(conn, index_command, returntype='dict')"
   ]
  },
  {
   "cell_type": "markdown",
   "metadata": {},
   "source": [
    "## Task 2: Viral Vulnerability Analysis"
   ]
  },
  {
   "cell_type": "code",
   "execution_count": null,
   "metadata": {},
   "outputs": [],
   "source": [
    "pgquery(conn, \"SET search_path to covid, public\")"
   ]
  },
  {
   "cell_type": "markdown",
   "metadata": {},
   "source": [
    "### Map of neighbourhoods"
   ]
  },
  {
   "cell_type": "code",
   "execution_count": null,
   "metadata": {},
   "outputs": [],
   "source": [
    "query = \"\"\"SELECT geom FROM neighbourhoods\"\"\"\n",
    "neighbourhoods_map = gpd.read_postgis(query, conn)\n",
    "neighbourhoods_map.plot(figsize=(10,10))"
   ]
  },
  {
   "cell_type": "markdown",
   "metadata": {},
   "source": [
    "### Find health service density per neighbourhood\n",
    "\n",
    "We did a spatial ST_Within join between Neighbourhoods and Health Services, thereby finding the health service density per neighbourhood, where neighbourhood is the neighbourhood population/1000."
   ]
  },
  {
   "cell_type": "code",
   "execution_count": null,
   "metadata": {},
   "outputs": [],
   "source": [
    "query = \"\"\"SELECT n.area_name, n.land_area, n.population, count(h.name) AS number_health_services,\n",
    "\t\t\t count(h.name)/(n.population::float/1000) AS \"healthservice_density\", n.geom\n",
    "             FROM neighbourhoods n LEFT JOIN health_services h ON (ST_Within(h.geom, n.geom))\n",
    "             GROUP BY n.area_name, n.land_area, n.population, n.geom\n",
    "             ORDER BY n.area_name ASC;\n",
    "            \"\"\"\n",
    "\n",
    "healthservice_density = gpd.read_postgis(query, conn)\n",
    "healthservice_density"
   ]
  },
  {
   "cell_type": "code",
   "execution_count": null,
   "metadata": {},
   "outputs": [],
   "source": [
    "fig, ax = plt.subplots(1, 1, figsize=(10, 10))\n",
    "ax.set_title(\"Health Services Density\", fontsize=10.0)\n",
    "legend_kwds = {'label': \"Health Services Density\", 'orientation': \"horizontal\"}\n",
    "neighbourhoods_map.plot(figsize=(10,10), ax=ax, color='white', edgecolor='black')\n",
    "healthservice_density.plot(column=\"healthservice_density\", figsize=(10, 10), ax=ax, legend=True, legend_kwds=legend_kwds)\n",
    "plt.show()"
   ]
  },
  {
   "cell_type": "markdown",
   "metadata": {},
   "source": [
    "### Find Population density per neighbourhood land area"
   ]
  },
  {
   "cell_type": "code",
   "execution_count": null,
   "metadata": {},
   "outputs": [],
   "source": [
    "query = \"\"\"select area_name, population/land_area AS population_density, geom from neighbourhoods \n",
    "            ORDER BY population_density DESC;\n",
    "            \"\"\"\n",
    "\n",
    "population_density = gpd.read_postgis(query,conn)\n",
    "population_density"
   ]
  },
  {
   "cell_type": "code",
   "execution_count": null,
   "metadata": {},
   "outputs": [],
   "source": [
    "fig, ax = plt.subplots(1, 1, figsize=(10, 10))\n",
    "ax.set_title(\"Population Density\", fontsize=10.0)\n",
    "legend_kwds = {'label': \"Population Density\", 'orientation': \"horizontal\"}\n",
    "neighbourhoods_map.plot(figsize=(10,10), ax=ax, color='white', edgecolor='black')\n",
    "population_density.plot(column=\"population_density\", figsize=(10, 10), ax=ax, legend=True, legend_kwds=legend_kwds)\n",
    "plt.show()"
   ]
  },
  {
   "cell_type": "markdown",
   "metadata": {},
   "source": [
    "### Find Population Age Percentage"
   ]
  },
  {
   "cell_type": "code",
   "execution_count": null,
   "metadata": {},
   "outputs": [],
   "source": [
    "query = \"\"\"select area_name,CASE\n",
    "WHEN total_persons = NULL OR total_persons = 0 Then NULL\n",
    "ELSE 100*(age_70_to_74 + age_75_to_79 + age_80_to_84 + age_85_and_over)/total_persons::float \n",
    "END AS \"Percentage_of_population_age_70_over\", geom\n",
    "from population_stats_2016 p LEFT JOIN sa2_data s ON (p.area_id = s.id);\"\"\"\n",
    "\n",
    "population_age = gpd.read_postgis(query,conn)\n",
    "population_age"
   ]
  },
  {
   "cell_type": "code",
   "execution_count": null,
   "metadata": {},
   "outputs": [],
   "source": [
    "fig, ax = plt.subplots(1, 1, figsize=(10, 10))\n",
    "ax.set_title(\"Percentage of Population over 70\", fontsize=10.0)\n",
    "legend_kwds = {'label': \"Percentage of Population over 70\", 'orientation': \"horizontal\"}\n",
    "neighbourhoods_map.plot(figsize=(10,10), ax=ax, color='white', edgecolor='black')\n",
    "population_age.plot(column=\"Percentage_of_population_age_70_over\", figsize=(10, 10), ax=ax, legend=True, legend_kwds=legend_kwds)\n",
    "plt.show()"
   ]
  },
  {
   "cell_type": "markdown",
   "metadata": {},
   "source": [
    "### Find hospital bed density"
   ]
  },
  {
   "cell_type": "code",
   "execution_count": null,
   "metadata": {},
   "outputs": [],
   "source": [
    "query = \"\"\"SELECT n.area_name, SUM(h.num_beds)/(n.population/1000) AS \"num_beds_density\", n.geom\n",
    "             FROM neighbourhoods n LEFT JOIN health_services h ON (ST_Within(h.geom, n.geom)) \n",
    "\t\t\t GROUP BY n.area_name,n.population,n.geom\n",
    "\t\t\t ORDER BY num_beds_density DESC NULLS LAST;\"\"\"\n",
    "\n",
    "hospital_bed_density = gpd.read_postgis(query,conn)\n",
    "hospital_bed_density"
   ]
  },
  {
   "cell_type": "code",
   "execution_count": null,
   "metadata": {},
   "outputs": [],
   "source": [
    "fig, ax = plt.subplots(1, 1, figsize=(10, 10))\n",
    "ax.set_title(\"Hospital Bed Density\", fontsize=10.0)\n",
    "legend_kwds = {'label': \"Hospital Bed Density\", 'orientation': \"horizontal\"}\n",
    "neighbourhoods_map.plot(figsize=(10,10), ax=ax, color='white', edgecolor='black')\n",
    "hospital_bed_density.plot(column=\"num_beds_density\", figsize=(10, 10), ax=ax, legend=True, legend_kwds=legend_kwds)\n",
    "plt.show()"
   ]
  },
  {
   "cell_type": "markdown",
   "metadata": {},
   "source": [
    "### Find COVID-19 tests per neighbourhood"
   ]
  },
  {
   "cell_type": "code",
   "execution_count": null,
   "metadata": {},
   "outputs": [],
   "source": [
    "query = \"\"\"select neigh.area_name, count(ct.result) AS total_number_of_tests, neigh.geom FROM covid_tests ct \n",
    "JOIN nsw_postcodes np ON (ct.postcode = np.postcode) \n",
    "RIGHT JOIN neighbourhoods neigh ON (ST_WITHIN(np.geom,neigh.geom))\n",
    "GROUP BY neigh.area_name,neigh.geom \n",
    "ORDER BY total_number_of_tests DESC;\"\"\"\n",
    "\n",
    "covid_tests = gpd.read_postgis(query,conn)\n",
    "covid_tests"
   ]
  },
  {
   "cell_type": "code",
   "execution_count": null,
   "metadata": {},
   "outputs": [],
   "source": [
    "#Plotting map of tests conducted \n",
    "fig, ax = plt.subplots(1, 1, figsize=(10, 10))\n",
    "ax.set_title(\"Tests Per Neighbournood\", fontsize=10.0)\n",
    "legend_kwds = {'label': \"Number of Tests\", 'orientation': \"horizontal\"}\n",
    "neighbourhoods_map.plot(figsize=(10,10), ax=ax, color='white', edgecolor='black')\n",
    "covid_tests.plot(column=\"total_number_of_tests\", figsize=(10, 10), ax=ax, legend=True, legend_kwds=legend_kwds)\n",
    "plt.show()"
   ]
  },
  {
   "cell_type": "markdown",
   "metadata": {},
   "source": [
    "### Find COVID-19 Confirmed Cases per neighbourhood"
   ]
  },
  {
   "cell_type": "code",
   "execution_count": null,
   "metadata": {},
   "outputs": [],
   "source": [
    "query = \"\"\"select neigh.area_name, count(ct.result) AS total_number_of_cases, neigh.geom FROM covid_tests ct \n",
    "JOIN nsw_postcodes np ON (ct.postcode = np.postcode) \n",
    "RIGHT JOIN neighbourhoods neigh ON (ST_WITHIN(np.geom,neigh.geom))\n",
    "WHERE ct.result = 'Case - Confirmed'\n",
    "GROUP BY neigh.area_name,neigh.geom \n",
    "ORDER BY total_number_of_cases DESC;\"\"\"\n",
    "\n",
    "covid_cases = gpd.read_postgis(query,conn)\n",
    "covid_cases"
   ]
  },
  {
   "cell_type": "code",
   "execution_count": null,
   "metadata": {},
   "outputs": [],
   "source": [
    "#Plotting map of tests conducted \n",
    "fig, ax = plt.subplots(1, 1, figsize=(10, 10))\n",
    "ax.set_title(\"Confirmed Cases Per Neighbournood\", fontsize=10.0)\n",
    "legend_kwds = {'label': \"Number of Tests\", 'orientation': \"horizontal\"}\n",
    "neighbourhoods_map.plot(figsize=(10,10), ax=ax, color='white', edgecolor='black')\n",
    "covid_cases.plot(column=\"total_number_of_cases\", figsize=(10, 10), ax=ax, legend=True, legend_kwds=legend_kwds)\n",
    "plt.show()"
   ]
  },
  {
   "cell_type": "markdown",
   "metadata": {},
   "source": [
    "### Finding the number of schools per area"
   ]
  },
  {
   "cell_type": "code",
   "execution_count": null,
   "metadata": {},
   "outputs": [],
   "source": [
    "query = \"\"\"select neigh.area_name, count(s.school_name) AS number_of_schools, neigh.geom\n",
    "FROM schools s \n",
    "JOIN nsw_postcodes np ON (s.postcode = np.postcode) \n",
    "RIGHT JOIN neighbourhoods neigh ON (ST_WITHIN(np.geom,neigh.geom))\n",
    "GROUP BY neigh.area_name,neigh.geom \n",
    "ORDER BY number_of_schools DESC;\"\"\"\n",
    "\n",
    "num_schools = gpd.read_postgis(query,conn)\n",
    "num_schools"
   ]
  },
  {
   "cell_type": "code",
   "execution_count": null,
   "metadata": {},
   "outputs": [],
   "source": [
    "#Plotting map of tests conducted \n",
    "fig, ax = plt.subplots(1, 1, figsize=(10, 10))\n",
    "ax.set_title(\"Schools Per Neighbournood\", fontsize=10.0)\n",
    "legend_kwds = {'label': \"Number of schools\", 'orientation': \"horizontal\"}\n",
    "neighbourhoods_map.plot(figsize=(10,10), ax=ax, color='white', edgecolor='black')\n",
    "num_schools.plot(column=\"number_of_schools\", figsize=(10, 10), ax=ax, legend=True, legend_kwds=legend_kwds)\n",
    "plt.show()"
   ]
  },
  {
   "cell_type": "markdown",
   "metadata": {},
   "source": [
    "### Creating joint dataframe of the values"
   ]
  },
  {
   "cell_type": "code",
   "execution_count": null,
   "metadata": {},
   "outputs": [],
   "source": [
    "new_df_1 = pd.DataFrame(population_density, columns = ['area_name', 'population_density'])\n",
    "new_df_2 = pd.DataFrame(population_age, columns = ['area_name', 'Percentage_of_population_age_70_over'])\n",
    "new_df_3 = pd.DataFrame(healthservice_density, columns = ['area_name',  'healthservice_density'])\n",
    "new_df_4 = pd.DataFrame(hospital_bed_density, columns = ['area_name', 'num_beds_density'])\n",
    "new_df_5 = pd.DataFrame(covid_tests, columns = ['area_name', 'total_number_of_tests'])\n",
    "new_df_6 = pd.DataFrame(num_schools, columns = ['area_name',  'number_of_schools', 'geom'])\n",
    "new_df_7 = pd.DataFrame(covid_cases, columns = ['area_name', 'total_number_of_cases'])\n",
    "\n",
    "df_final = pd.merge(new_df_1, new_df_2, on='area_name')\n",
    "df_final = pd.merge(df_final, new_df_3, on='area_name')\n",
    "df_final = pd.merge(df_final, new_df_4, on='area_name')\n",
    "df_final = pd.merge(df_final, new_df_6, on='area_name')\n",
    "df_final = pd.merge(df_final, new_df_5, on='area_name')\n",
    "df_final = pd.merge(df_final, new_df_7, on='area_name')\n",
    "\n",
    "# Calculate averages and standard deviations\n",
    "avg_series_across_columns = df_final.mean(axis=0)\n",
    "std_series_across_columns = df_final.std(axis=0,ddof=0)\n",
    "\n",
    "def z_score(cur_value, column):\n",
    "    score = (cur_value - avg_series_across_columns[column])/std_series_across_columns[column]\n",
    "    if cur_value is None or math.isnan(score):\n",
    "        return 0\n",
    "    else:\n",
    "        return score\n",
    "\n",
    "def sigmoid(x):\n",
    "  return 1 / (1 + math.exp(-x))\n",
    "\n",
    "vulnerability_column = []\n",
    "\n",
    "for index, cur_row in df_final.iterrows():    \n",
    "    total_z_scores = (z_score(cur_row['population_density'], 'population_density') + z_score(cur_row['Percentage_of_population_age_70_over'], 'Percentage_of_population_age_70_over') + z_score(cur_row['healthservice_density'], 'healthservice_density') + z_score(cur_row['num_beds_density'], 'num_beds_density') + z_score(cur_row['number_of_schools'], 'number_of_schools'))\n",
    "    vulnerability_column.append(sigmoid(total_z_scores))\n",
    "\n",
    "df_final['Vulnerability'] = vulnerability_column\n",
    "df_final = GeoDataFrame(df_final, geometry = 'geom')\n",
    "df_final"
   ]
  },
  {
   "cell_type": "code",
   "execution_count": null,
   "metadata": {},
   "outputs": [],
   "source": [
    "#Mapping the Viral Vulnerability \n",
    "fig, ax = plt.subplots(1, 1, figsize=(10, 10))\n",
    "ax.set_title(\"Viral Vulnerability Map\", fontsize=10.0)\n",
    "legend_kwds = {'label': \"Viral Vulnerability\", 'orientation': \"horizontal\"}\n",
    "neighbourhoods_map.plot(figsize=(10,10), ax=ax, color='white', edgecolor='black')\n",
    "df_final.plot(column = 'Vulnerability', figsize=(10, 10), ax=ax, legend=True, legend_kwds=legend_kwds)\n",
    "plt.show()"
   ]
  },
  {
   "cell_type": "code",
   "execution_count": null,
   "metadata": {},
   "outputs": [],
   "source": [
    "#Loading data into final_data_table\n",
    "pgquery(conn, \"DROP TABLE final_data\")\n",
    "final_data_table = \"\"\"CREATE TABLE final_data (\n",
    "               area_name VARCHAR(50),\n",
    "               population_density NUMERIC,\n",
    "               population_age_over_70 NUMERIC,\n",
    "               healthservice_density NUMERIC,\n",
    "               num_beds_density NUMERIC,\n",
    "               total_tests INTEGER,\n",
    "               total_num_school INTEGER,\n",
    "               geom GEOMETRY(MULTIPOLYGON,4326),\n",
    "               viral_vulnerability NUMERIC\n",
    "           );\"\"\"\n",
    "\n",
    "pgquery(conn, final_data_table)\n",
    "\n",
    "geom_wkt_data = []\n",
    "for index, row in df_final.iterrows():\n",
    "    try:\n",
    "        geom_wkt_data.append(row['geom'].wkt) # converting geometry polygon data to a string format\n",
    "    except:\n",
    "        geom_wkt_data.append(None)\n",
    "df_final = df_final.assign(geom_wkt = geom_wkt_data) # adding string formatted geometry to dataframe\n",
    "\n",
    "for index, row in df_final.iterrows():\n",
    "    if str(row[1]) == \"nan\":\n",
    "        row[1] = None\n",
    "    if str(row[2]) == \"nan\":\n",
    "        row[2] = None\n",
    "    if str(row[3]) == \"nan\":\n",
    "        row[3] = None\n",
    "    if str(row[4]) == \"nan\":\n",
    "        row[4] = None\n",
    "    if str(row[5]) == \"nan\":\n",
    "        row[5] = None\n",
    "    if str(row[7]) == \"nan\":\n",
    "        row[7] = None\n",
    "    if str(row[8]) == \"nan\":\n",
    "        row[8] = None\n",
    "    pgquery(conn, \"INSERT INTO final_data VALUES (%s, %s, %s, %s, %s, %s, %s, ST_Multi(ST_GeomFromText(%s, 4326)), %s)\", (row[0], row[1], row[2], row[3], row[4], row[5], row[6], row[9], row[8]))"
   ]
  },
  {
   "cell_type": "markdown",
   "metadata": {},
   "source": [
    "### Correlation"
   ]
  },
  {
   "cell_type": "markdown",
   "metadata": {},
   "source": [
    "#### Viral Vulnerability vs Number of tests"
   ]
  },
  {
   "cell_type": "code",
   "execution_count": null,
   "metadata": {},
   "outputs": [],
   "source": [
    "query = \"\"\"SELECT area_name, viral_vulnerability, total_tests, geom FROM final_data\"\"\"\n",
    "total_cases_df = gpd.read_postgis(query, conn)\n",
    "total_cases_df"
   ]
  },
  {
   "cell_type": "code",
   "execution_count": null,
   "metadata": {},
   "outputs": [],
   "source": [
    "fig, ax = plt.subplots(1, 1, figsize=(10, 10))\n",
    "ax.set_title(\"Number of COVID-19 tests per Neighbourhood\", fontsize=10.0)\n",
    "legend_kwds = {'label': \"Number of Tests\", 'orientation': \"horizontal\"}\n",
    "neighbourhoods_map.plot(figsize=(10,10), ax=ax, color='white', edgecolor='black')\n",
    "total_cases_df.plot(column = 'total_tests', figsize=(10, 10), ax=ax, legend=True, legend_kwds=legend_kwds)\n",
    "plt.show()"
   ]
  },
  {
   "cell_type": "code",
   "execution_count": null,
   "metadata": {},
   "outputs": [],
   "source": [
    "plt.scatter(total_cases_df['viral_vulnerability'], total_cases_df['total_tests'])\n",
    "plt.xlabel(\"Viral Vulnerability\")\n",
    "plt.ylabel(\"Tests\")\n",
    "plt.title(\"Viral Vulnerability vs COVID-19 Tests\")\n",
    "print(\"Correlation: \" + str(cov(total_cases_df['viral_vulnerability'], total_cases_df['total_tests'])[0][1]))"
   ]
  },
  {
   "cell_type": "markdown",
   "metadata": {},
   "source": [
    "#### Viral Vulnerability vs Percentage of tests returned positive"
   ]
  },
  {
   "cell_type": "code",
   "execution_count": null,
   "metadata": {},
   "outputs": [],
   "source": [
    "query = \"\"\"SELECT area_name, (total_cases::float/total_number_of_tests::float)*100 AS \"Percentage tested positive\", viral_vulnerability, geom \n",
    "            FROM final_data\n",
    "            ORDER BY \"Percentage tested positive\" DESC \"\"\"\n",
    "perc_tested_positive = gpd.read_postgis(query, conn)\n",
    "perc_tested_positive"
   ]
  },
  {
   "cell_type": "code",
   "execution_count": null,
   "metadata": {},
   "outputs": [],
   "source": [
    "fig, ax = plt.subplots(1, 1, figsize=(10, 10))\n",
    "ax.set_title(\"Percentage of tests returned positive\", fontsize=10.0)\n",
    "legend_kwds = {'label': \"Percentage of tests returned positive\", 'orientation': \"horizontal\"}\n",
    "neighbourhoods_map.plot(figsize=(10,10), ax=ax, color='white', edgecolor='black')\n",
    "perc_tested_positive.plot(column = 'Percentage tested positive', figsize=(10, 10), ax=ax, legend=True, legend_kwds=legend_kwds)\n",
    "plt.show()"
   ]
  },
  {
   "cell_type": "code",
   "execution_count": null,
   "metadata": {},
   "outputs": [],
   "source": [
    "plt.scatter(perc_tested_positive['viral_vulnerability'], perc_tested_positive['Percentage tested positive'])\n",
    "plt.xlabel(\"Viral Vulnerability\")\n",
    "plt.ylabel(\"Percentage of tests returned positive\")\n",
    "plt.title(\"Viral Vulnerability vs Percentage of tests returned positive\")\n",
    "print(\"Correlation: \" + str(cov(perc_tested_positive['viral_vulnerability'], perc_tested_positive['Percentage tested positive'])[0][1]))"
   ]
  },
  {
   "cell_type": "markdown",
   "metadata": {},
   "source": [
    "## Closing Connection"
   ]
  },
  {
   "cell_type": "code",
   "execution_count": null,
   "metadata": {},
   "outputs": [],
   "source": [
    "conn.close()"
   ]
  },
  {
   "cell_type": "code",
   "execution_count": null,
   "metadata": {},
   "outputs": [],
   "source": []
  }
 ],
 "metadata": {
  "kernelspec": {
   "display_name": "Python 3",
   "language": "python",
   "name": "python3"
  },
  "language_info": {
   "codemirror_mode": {
    "name": "ipython",
    "version": 3
   },
   "file_extension": ".py",
   "mimetype": "text/x-python",
   "name": "python",
   "nbconvert_exporter": "python",
   "pygments_lexer": "ipython3",
   "version": "3.7.4"
  }
 },
 "nbformat": 4,
 "nbformat_minor": 1
}
